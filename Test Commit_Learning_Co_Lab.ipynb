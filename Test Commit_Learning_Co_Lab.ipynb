{
  "nbformat": 4,
  "nbformat_minor": 0,
  "metadata": {
    "colab": {
      "name": "Learning Co-Lab.ipynb",
      "provenance": [],
      "collapsed_sections": [],
      "authorship_tag": "ABX9TyOlM5vW85MUck1BQvKjTbnV",
      "include_colab_link": true
    },
    "kernelspec": {
      "name": "python3",
      "display_name": "Python 3"
    },
    "language_info": {
      "name": "python"
    }
  },
  "cells": [
    {
      "cell_type": "markdown",
      "metadata": {
        "id": "view-in-github",
        "colab_type": "text"
      },
      "source": [
        "<a href=\"https://colab.research.google.com/github/btoxicology/Google-Co-Lab-Projects-/blob/main/Test%20Commit_Learning_Co_Lab.ipynb\" target=\"_parent\"><img src=\"https://colab.research.google.com/assets/colab-badge.svg\" alt=\"Open In Colab\"/></a>"
      ]
    },
    {
      "cell_type": "code",
      "metadata": {
        "colab": {
          "base_uri": "https://localhost:8080/"
        },
        "id": "vQa2I3ALrchP",
        "outputId": "327f18a3-695e-4230-846e-975d148c7ea2"
      },
      "source": [
        "print(\"Hello Github, this is a test to see if google co-lab will commit to my git repo\")"
      ],
      "execution_count": 4,
      "outputs": [
        {
          "output_type": "stream",
          "text": [
            "Hello Github, this is a test to see if google co-lab will commit to my git repo\n"
          ],
          "name": "stdout"
        }
      ]
    }
  ]
}